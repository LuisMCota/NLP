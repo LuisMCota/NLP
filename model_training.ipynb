{
 "cells": [
  {
   "cell_type": "code",
   "execution_count": 14,
   "metadata": {},
   "outputs": [],
   "source": [
    "import pandas as pd\n",
    "from datasets import Dataset\n",
    "from transformers import T5Tokenizer, T5ForConditionalGeneration, Trainer, TrainingArguments"
   ]
  },
  {
   "cell_type": "code",
   "execution_count": 15,
   "metadata": {},
   "outputs": [],
   "source": [
    "data = pd.read_csv(\"training_data.csv\", index_col=0)"
   ]
  },
  {
   "cell_type": "code",
   "execution_count": 16,
   "metadata": {},
   "outputs": [],
   "source": [
    "data.rename(columns={\"clean_title\":\"input\", \"inverse_title\":\"output\"}, inplace=True)"
   ]
  },
  {
   "cell_type": "code",
   "execution_count": 17,
   "metadata": {},
   "outputs": [
    {
     "data": {
      "text/html": [
       "<div>\n",
       "<style scoped>\n",
       "    .dataframe tbody tr th:only-of-type {\n",
       "        vertical-align: middle;\n",
       "    }\n",
       "\n",
       "    .dataframe tbody tr th {\n",
       "        vertical-align: top;\n",
       "    }\n",
       "\n",
       "    .dataframe thead th {\n",
       "        text-align: right;\n",
       "    }\n",
       "</style>\n",
       "<table border=\"1\" class=\"dataframe\">\n",
       "  <thead>\n",
       "    <tr style=\"text-align: right;\">\n",
       "      <th></th>\n",
       "      <th>input</th>\n",
       "      <th>output</th>\n",
       "    </tr>\n",
       "  </thead>\n",
       "  <tbody>\n",
       "    <tr>\n",
       "      <th>1</th>\n",
       "      <td>the best soundtrack ever to anything</td>\n",
       "      <td>the worst soundtrack ever to anything</td>\n",
       "    </tr>\n",
       "    <tr>\n",
       "      <th>7</th>\n",
       "      <td>glorious story</td>\n",
       "      <td>inglorious story</td>\n",
       "    </tr>\n",
       "    <tr>\n",
       "      <th>10</th>\n",
       "      <td>the worst</td>\n",
       "      <td>the best</td>\n",
       "    </tr>\n",
       "    <tr>\n",
       "      <th>14</th>\n",
       "      <td>awful beyond belief</td>\n",
       "      <td>nice beyond belief</td>\n",
       "    </tr>\n",
       "    <tr>\n",
       "      <th>16</th>\n",
       "      <td>a romantic zen baseball comedy</td>\n",
       "      <td>a classicist zen baseball tragedy</td>\n",
       "    </tr>\n",
       "    <tr>\n",
       "      <th>...</th>\n",
       "      <td>...</td>\n",
       "      <td>...</td>\n",
       "    </tr>\n",
       "    <tr>\n",
       "      <th>3599772</th>\n",
       "      <td>a sweet scent</td>\n",
       "      <td>a sour scent</td>\n",
       "    </tr>\n",
       "    <tr>\n",
       "      <th>3599778</th>\n",
       "      <td>useful for everything boat related</td>\n",
       "      <td>useless for everything boat related</td>\n",
       "    </tr>\n",
       "    <tr>\n",
       "      <th>3599781</th>\n",
       "      <td>we love tyler</td>\n",
       "      <td>we hate tyler</td>\n",
       "    </tr>\n",
       "    <tr>\n",
       "      <th>3599789</th>\n",
       "      <td>looks nice low functionality</td>\n",
       "      <td>looks nice high functionality</td>\n",
       "    </tr>\n",
       "    <tr>\n",
       "      <th>3599790</th>\n",
       "      <td>compact but hard to clean</td>\n",
       "      <td>compact but easy to clean</td>\n",
       "    </tr>\n",
       "  </tbody>\n",
       "</table>\n",
       "<p>1145379 rows × 2 columns</p>\n",
       "</div>"
      ],
      "text/plain": [
       "                                        input  \\\n",
       "1        the best soundtrack ever to anything   \n",
       "7                              glorious story   \n",
       "10                                  the worst   \n",
       "14                        awful beyond belief   \n",
       "16             a romantic zen baseball comedy   \n",
       "...                                       ...   \n",
       "3599772                         a sweet scent   \n",
       "3599778    useful for everything boat related   \n",
       "3599781                         we love tyler   \n",
       "3599789          looks nice low functionality   \n",
       "3599790             compact but hard to clean   \n",
       "\n",
       "                                        output  \n",
       "1        the worst soundtrack ever to anything  \n",
       "7                             inglorious story  \n",
       "10                                    the best  \n",
       "14                          nice beyond belief  \n",
       "16           a classicist zen baseball tragedy  \n",
       "...                                        ...  \n",
       "3599772                           a sour scent  \n",
       "3599778    useless for everything boat related  \n",
       "3599781                          we hate tyler  \n",
       "3599789          looks nice high functionality  \n",
       "3599790              compact but easy to clean  \n",
       "\n",
       "[1145379 rows x 2 columns]"
      ]
     },
     "execution_count": 17,
     "metadata": {},
     "output_type": "execute_result"
    }
   ],
   "source": [
    "data"
   ]
  },
  {
   "cell_type": "code",
   "execution_count": 26,
   "metadata": {},
   "outputs": [],
   "source": [
    "hf_data = Dataset.from_pandas(data)\n"
   ]
  },
  {
   "cell_type": "code",
   "execution_count": 27,
   "metadata": {},
   "outputs": [
    {
     "data": {
      "text/plain": [
       "Dataset({\n",
       "    features: ['input', 'output', '__index_level_0__'],\n",
       "    num_rows: 1145379\n",
       "})"
      ]
     },
     "execution_count": 27,
     "metadata": {},
     "output_type": "execute_result"
    }
   ],
   "source": [
    "hf_data"
   ]
  },
  {
   "cell_type": "code",
   "execution_count": 28,
   "metadata": {},
   "outputs": [],
   "source": [
    "tokenizer = T5Tokenizer.from_pretrained(\"t5-small\")\n",
    "model = T5ForConditionalGeneration.from_pretrained(\"t5-small\")"
   ]
  },
  {
   "cell_type": "code",
   "execution_count": 29,
   "metadata": {},
   "outputs": [],
   "source": [
    "train_dataset, val_dataset = hf_data.train_test_split(test_size=0.2).values()"
   ]
  },
  {
   "cell_type": "code",
   "execution_count": 30,
   "metadata": {},
   "outputs": [],
   "source": [
    "train_dataset, _ = train_dataset.train_test_split(train_size=0.3).values()"
   ]
  },
  {
   "cell_type": "code",
   "execution_count": 31,
   "metadata": {},
   "outputs": [],
   "source": [
    "def tokenize_function(examples):\n",
    "    inputs = examples[\"input\"]\n",
    "    targets = examples[\"output\"]\n",
    "    \n",
    "    # Tokenize inputs and outputs\n",
    "    model_inputs = tokenizer(inputs, max_length=72, truncation=True, padding=\"max_length\")\n",
    "    labels = tokenizer(targets, max_length=72, truncation=True, padding=\"max_length\")\n",
    "    \n",
    "    # Add labels (labels for training)\n",
    "    model_inputs[\"labels\"] = labels[\"input_ids\"]\n",
    "    return model_inputs"
   ]
  },
  {
   "cell_type": "code",
   "execution_count": 32,
   "metadata": {},
   "outputs": [
    {
     "name": "stderr",
     "output_type": "stream",
     "text": [
      "Map:   0%|          | 0/274890 [00:00<?, ? examples/s]"
     ]
    },
    {
     "name": "stderr",
     "output_type": "stream",
     "text": [
      "Map: 100%|██████████| 274890/274890 [00:33<00:00, 8315.54 examples/s]\n",
      "Map: 100%|██████████| 229076/229076 [00:26<00:00, 8518.88 examples/s]\n"
     ]
    }
   ],
   "source": [
    "tokenized_train_dataset = train_dataset.map(tokenize_function, batched=True)\n",
    "tokenized_val_dataset = val_dataset.map(tokenize_function, batched=True)"
   ]
  },
  {
   "cell_type": "code",
   "execution_count": 33,
   "metadata": {},
   "outputs": [],
   "source": [
    "training_args = TrainingArguments(\n",
    "    output_dir=\"./results\",               # Output directory for model checkpoints\n",
    "    eval_strategy=\"steps\",               # Evaluate every X steps\n",
    "    eval_steps=50000,                    # Evaluate after every 50k training steps\n",
    "    save_steps=50000,                    # Save checkpoint every 50k steps (aligned with eval_steps)\n",
    "    logging_dir=\"./logs\",                # Directory for logs\n",
    "    logging_steps=5000,                  # Log every 5k steps\n",
    "    learning_rate=3e-5,                  # Learning rate\n",
    "    per_device_train_batch_size=32,      # Batch size for training\n",
    "    per_device_eval_batch_size=32,       # Batch size for evaluation\n",
    "    gradient_accumulation_steps=1,       # No gradient accumulation needed\n",
    "    num_train_epochs=1,                  # Number of epochs\n",
    "    weight_decay=0.01,                   # Weight decay for optimization\n",
    "    save_total_limit=2,                  # Limit the number of saved checkpoints\n",
    "    fp16=True,                           # Enable FP16 for mixed precision\n",
    "    load_best_model_at_end=True,         # Load the best model at the end of training\n",
    "    metric_for_best_model=\"eval_loss\",   # Metric to determine the best model\n",
    "    greater_is_better=False,             # Lower eval loss is better\n",
    "    optim=\"adafactor\"\n",
    ")"
   ]
  },
  {
   "cell_type": "code",
   "execution_count": 34,
   "metadata": {},
   "outputs": [],
   "source": [
    "trainer = Trainer(\n",
    "    model=model,\n",
    "    args=training_args,\n",
    "    train_dataset=tokenized_train_dataset,\n",
    "    eval_dataset=tokenized_val_dataset,  # Now using the validation dataset\n",
    ")"
   ]
  },
  {
   "cell_type": "code",
   "execution_count": 35,
   "metadata": {},
   "outputs": [
    {
     "name": "stderr",
     "output_type": "stream",
     "text": [
      "  0%|          | 0/8591 [00:00<?, ?it/s]Passing a tuple of `past_key_values` is deprecated and will be removed in Transformers v4.48.0. You should pass an instance of `EncoderDecoderCache` instead, e.g. `past_key_values=EncoderDecoderCache.from_legacy_cache(past_key_values)`.\n",
      " 58%|█████▊    | 5000/8591 [1:11:21<51:12,  1.17it/s]  "
     ]
    },
    {
     "name": "stdout",
     "output_type": "stream",
     "text": [
      "{'loss': 0.2031, 'grad_norm': 0.14186440408229828, 'learning_rate': 1.255383540914911e-05, 'epoch': 0.58}\n"
     ]
    },
    {
     "name": "stderr",
     "output_type": "stream",
     "text": [
      "100%|██████████| 8591/8591 [2:02:31<00:00,  1.17it/s]"
     ]
    },
    {
     "name": "stdout",
     "output_type": "stream",
     "text": [
      "{'train_runtime': 7351.0299, 'train_samples_per_second': 37.395, 'train_steps_per_second': 1.169, 'train_loss': 0.13136793351287185, 'epoch': 1.0}\n"
     ]
    },
    {
     "name": "stderr",
     "output_type": "stream",
     "text": [
      "\n"
     ]
    },
    {
     "data": {
      "text/plain": [
       "TrainOutput(global_step=8591, training_loss=0.13136793351287185, metrics={'train_runtime': 7351.0299, 'train_samples_per_second': 37.395, 'train_steps_per_second': 1.169, 'total_flos': 5231827660308480.0, 'train_loss': 0.13136793351287185, 'epoch': 1.0})"
      ]
     },
     "execution_count": 35,
     "metadata": {},
     "output_type": "execute_result"
    }
   ],
   "source": [
    "trainer.train()"
   ]
  },
  {
   "cell_type": "code",
   "execution_count": 41,
   "metadata": {},
   "outputs": [],
   "source": [
    "model.save_pretrained(\"finetunedt5\")"
   ]
  },
  {
   "cell_type": "code",
   "execution_count": 40,
   "metadata": {},
   "outputs": [
    {
     "data": {
      "text/plain": [
       "('finetunedt5/tokenizer_config.json',\n",
       " 'finetunedt5/special_tokens_map.json',\n",
       " 'finetunedt5/spiece.model',\n",
       " 'finetunedt5/added_tokens.json')"
      ]
     },
     "execution_count": 40,
     "metadata": {},
     "output_type": "execute_result"
    }
   ],
   "source": [
    "tokenizer.save_pretrained(\"finetunedt5\")"
   ]
  },
  {
   "cell_type": "code",
   "execution_count": null,
   "metadata": {},
   "outputs": [],
   "source": [
    "input_text = \"This book was quite nice, it had neat themes and an good story\"\n",
    "input_ids = tokenizer(input_text, return_tensors=\"pt\").input_ids.cuda()\n",
    "output_ids = model.generate(input_ids)\n",
    "output_text = tokenizer.decode(output_ids[0], skip_special_tokens=True)\n",
    "output_text"
   ]
  }
 ],
 "metadata": {
  "kernelspec": {
   "display_name": "nlp_final",
   "language": "python",
   "name": "python3"
  },
  "language_info": {
   "codemirror_mode": {
    "name": "ipython",
    "version": 3
   },
   "file_extension": ".py",
   "mimetype": "text/x-python",
   "name": "python",
   "nbconvert_exporter": "python",
   "pygments_lexer": "ipython3",
   "version": "3.12.2"
  }
 },
 "nbformat": 4,
 "nbformat_minor": 2
}
